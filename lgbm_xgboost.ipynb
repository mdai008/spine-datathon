{
 "cells": [
  {
   "cell_type": "code",
   "execution_count": 1,
   "id": "2ac80f5d-c50e-42e1-8cd4-8e6a38a661b9",
   "metadata": {},
   "outputs": [],
   "source": [
    "# https://www.geeksforgeeks.org/lightgbm-light-gradient-boosting-machine/\n",
    "# https://www.geeksforgeeks.org/lightgbm-vs-xgboost-which-algorithm-is-better/\n",
    "\n",
    "import pandas as pd\n",
    "import numpy as np\n",
    "import lightgbm as lgb\n",
    "import xgboost as xgb\n",
    "from sklearn.model_selection import train_test_split\n",
    "from sklearn.metrics import accuracy_score"
   ]
  },
  {
   "cell_type": "code",
   "execution_count": 2,
   "id": "9204811a-b7a3-4c39-a08e-75f0886516fb",
   "metadata": {},
   "outputs": [
    {
     "data": {
      "text/html": [
       "<div>\n",
       "<style scoped>\n",
       "    .dataframe tbody tr th:only-of-type {\n",
       "        vertical-align: middle;\n",
       "    }\n",
       "\n",
       "    .dataframe tbody tr th {\n",
       "        vertical-align: top;\n",
       "    }\n",
       "\n",
       "    .dataframe thead th {\n",
       "        text-align: right;\n",
       "    }\n",
       "</style>\n",
       "<table border=\"1\" class=\"dataframe\">\n",
       "  <thead>\n",
       "    <tr style=\"text-align: right;\">\n",
       "      <th></th>\n",
       "      <th>label</th>\n",
       "      <th>x</th>\n",
       "      <th>y</th>\n",
       "    </tr>\n",
       "  </thead>\n",
       "  <tbody>\n",
       "    <tr>\n",
       "      <th>k1</th>\n",
       "      <td>0</td>\n",
       "      <td>2</td>\n",
       "      <td>3</td>\n",
       "    </tr>\n",
       "  </tbody>\n",
       "</table>\n",
       "</div>"
      ],
      "text/plain": [
       "    label  x  y\n",
       "k1      0  2  3"
      ]
     },
     "metadata": {},
     "output_type": "display_data"
    }
   ],
   "source": [
    "# https://www.geeksforgeeks.org/how-to-convert-dictionary-to-pandas-dataframe/\n",
    "col_names = ['label','x','y']\n",
    "coor_dict = {}\n",
    "coor_dict['k1']  = [0, 2, 3]\n",
    "coor_dict['k2']  = [1,-3, 4]\n",
    "coor_dict['k3']  = [1,-1, 9]\n",
    "coor_dict['k4']  = [2,-4,-5]\n",
    "coor_dict['k5']  = [2,-2,-2]\n",
    "coor_dict['k6']  = [3, 5,-4]\n",
    "coor_dict['k7']  = [3, 3,-5]\n",
    "coor_dict['k8']  = [0, 9, 8]\n",
    "coor_dict['k9']  = [1,-9, 4]\n",
    "coor_dict['k10'] = [3, 9,-4]\n",
    "coor_dict['k11'] = [2,-6,-4]\n",
    "coor_dict['k12'] = [0, 7, 6]\n",
    "\n",
    "df = pd.DataFrame.from_dict(coor_dict, orient='index', columns=col_names)\n",
    "display(df.head(1))"
   ]
  },
  {
   "cell_type": "code",
   "execution_count": 3,
   "id": "a1b1c854-41a4-421a-a3f2-00b44763e20a",
   "metadata": {},
   "outputs": [],
   "source": [
    "targ_col = 'label'\n",
    "X = df.drop(targ_col, axis=1)\n",
    "Y = df[targ_col]\n",
    "X_train, X_test, Y_train, Y_test = train_test_split(X, Y, test_size=0.3, random_state=22)"
   ]
  },
  {
   "cell_type": "code",
   "execution_count": 4,
   "id": "1703af3f-b6e9-4259-a929-91eb974d2b21",
   "metadata": {},
   "outputs": [
    {
     "name": "stdout",
     "output_type": "stream",
     "text": [
      "[LightGBM] [Info] Auto-choosing col-wise multi-threading, the overhead of testing was 0.000067 seconds.\n",
      "You can set `force_col_wise=true` to remove the overhead.\n",
      "[LightGBM] [Info] Total Bins 9\n",
      "[LightGBM] [Info] Number of data points in the train set: 8, number of used features: 2\n",
      "[LightGBM] [Info] Start training from score -1.386294\n",
      "[LightGBM] [Info] Start training from score -2.079442\n",
      "[LightGBM] [Info] Start training from score -0.980829\n",
      "[LightGBM] [Info] Start training from score -1.386294\n"
     ]
    },
    {
     "data": {
      "text/plain": [
       "array([2, 1, 0, 3])"
      ]
     },
     "metadata": {},
     "output_type": "display_data"
    },
    {
     "data": {
      "text/plain": [
       "0.75"
      ]
     },
     "metadata": {},
     "output_type": "display_data"
    }
   ],
   "source": [
    "model = lgb.LGBMClassifier(num_leaves=2,max_depth=1,min_child_samples=2)\n",
    "model.fit(X_train, Y_train)\n",
    "\n",
    "preds = model.predict(X_test)\n",
    "display(preds)\n",
    "\n",
    "acc = accuracy_score(Y_test, preds)\n",
    "display(acc)"
   ]
  },
  {
   "cell_type": "code",
   "execution_count": 5,
   "id": "f427a44e-4504-4a94-a93d-066a03d7d23d",
   "metadata": {},
   "outputs": [
    {
     "name": "stdout",
     "output_type": "stream",
     "text": [
      "[LightGBM] [Info] Auto-choosing row-wise multi-threading, the overhead of testing was 0.000081 seconds.\n",
      "You can set `force_row_wise=true` to remove the overhead.\n",
      "And if memory is not enough, you can set `force_col_wise=true`.\n",
      "[LightGBM] [Info] Total Bins 9\n",
      "[LightGBM] [Info] Number of data points in the train set: 8, number of used features: 2\n",
      "[LightGBM] [Info] Start training from score -1.386294\n",
      "[LightGBM] [Info] Start training from score -2.079442\n",
      "[LightGBM] [Info] Start training from score -0.980829\n",
      "[LightGBM] [Info] Start training from score -1.386294\n",
      "[LightGBM] [Info] Start training from score -34.538776\n"
     ]
    },
    {
     "data": {
      "text/plain": [
       "[np.int64(2), np.int64(1), np.int64(0), np.int64(3)]"
      ]
     },
     "metadata": {},
     "output_type": "display_data"
    },
    {
     "data": {
      "text/plain": [
       "0.75"
      ]
     },
     "metadata": {},
     "output_type": "display_data"
    }
   ],
   "source": [
    "train_data = lgb.Dataset(X_train, label=Y_train)\n",
    "test_data = lgb.Dataset(X_test, label=Y_test, reference=train_data)\n",
    "params = {}\n",
    "params['objective'] = 'multiclass'\n",
    "params['num_class'] = 5\n",
    "params['num_leaves'] = 2\n",
    "params['max_depth'] = 1\n",
    "params['min_child_samples'] = 2\n",
    "\n",
    "model = lgb.train(params,train_data,valid_sets=[test_data])\n",
    "\n",
    "preds = model.predict(X_test)\n",
    "# display(preds)\n",
    "class_preds = [np.argmax(p) for p in preds]\n",
    "display(class_preds)\n",
    "\n",
    "acc = accuracy_score(Y_test, class_preds)\n",
    "display(acc)"
   ]
  },
  {
   "cell_type": "code",
   "execution_count": 6,
   "id": "3f61d2eb-df9c-4976-931c-29b711ef2f06",
   "metadata": {},
   "outputs": [
    {
     "data": {
      "text/plain": [
       "array([0, 2, 0, 3])"
      ]
     },
     "metadata": {},
     "output_type": "display_data"
    },
    {
     "data": {
      "text/plain": [
       "0.5"
      ]
     },
     "metadata": {},
     "output_type": "display_data"
    }
   ],
   "source": [
    "model = xgb.XGBClassifier(objective='multi:softprob',max_leaves=2,max_depth=1)\n",
    "model.fit(X_train, Y_train)\n",
    "\n",
    "preds = model.predict(X_test)\n",
    "display(preds)\n",
    "\n",
    "acc = accuracy_score(Y_test, preds)\n",
    "display(acc)"
   ]
  },
  {
   "cell_type": "code",
   "execution_count": null,
   "id": "b1c8033c-474b-4e60-b463-08c0bbdec1b9",
   "metadata": {},
   "outputs": [],
   "source": []
  },
  {
   "cell_type": "code",
   "execution_count": null,
   "id": "3929f801-c12a-4d0b-872f-216a2750bb30",
   "metadata": {},
   "outputs": [],
   "source": []
  },
  {
   "cell_type": "code",
   "execution_count": null,
   "id": "79aa90d1-2713-4ae5-938d-33aacad36ecf",
   "metadata": {},
   "outputs": [],
   "source": []
  },
  {
   "cell_type": "code",
   "execution_count": null,
   "id": "42f76a2d-e54f-4a6c-93a7-6888ba66db50",
   "metadata": {},
   "outputs": [],
   "source": []
  },
  {
   "cell_type": "code",
   "execution_count": null,
   "id": "55d0ecff-64f4-4fb4-9ea4-6c4a339dc79d",
   "metadata": {},
   "outputs": [],
   "source": []
  },
  {
   "cell_type": "code",
   "execution_count": null,
   "id": "dd9838d6-8002-4dbb-9cdf-c07f434c894c",
   "metadata": {},
   "outputs": [],
   "source": []
  }
 ],
 "metadata": {
  "kernelspec": {
   "display_name": "Python 3 (ipykernel)",
   "language": "python",
   "name": "python3"
  },
  "language_info": {
   "codemirror_mode": {
    "name": "ipython",
    "version": 3
   },
   "file_extension": ".py",
   "mimetype": "text/x-python",
   "name": "python",
   "nbconvert_exporter": "python",
   "pygments_lexer": "ipython3",
   "version": "3.12.4"
  }
 },
 "nbformat": 4,
 "nbformat_minor": 5
}
