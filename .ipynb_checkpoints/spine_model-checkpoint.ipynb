{
 "cells": [
  {
   "cell_type": "code",
   "execution_count": 1,
   "id": "cbde3d7d",
   "metadata": {},
   "outputs": [],
   "source": [
    "import pandas as pd\n",
    "import numpy as np\n",
    "import matplotlib.pyplot as plt\n",
    "import warnings\n",
    "import os\n",
    "import glob\n",
    "import pydicom\n",
    "import cv2"
   ]
  },
  {
   "cell_type": "code",
   "execution_count": 2,
   "id": "5fe6acc7",
   "metadata": {},
   "outputs": [
    {
     "data": {
      "text/plain": [
       "{'folder_path': '../data/train_images/100206310',\n",
       " 'SeriesInstanceUIDs': ['1012284084', '1792451510', '2092806862'],\n",
       " 'SeriesDescriptions': ['Axial T2', 'Sagittal T2/STIR', 'Sagittal T1']}"
      ]
     },
     "metadata": {},
     "output_type": "display_data"
    }
   ],
   "source": [
    "train_df = pd.read_csv('../data/train.csv')\n",
    "desc_df = pd.read_csv('../data/train_series_descriptions.csv')\n",
    "coor_df = pd.read_csv('../data/train_label_coordinates.csv')\n",
    "\n",
    "id_path_list = [(x, f'../data/train_images/{x}') for x in os.listdir('../data/train_images')]\n",
    "id_info_dict = {p[0]: {'folder_path': p[1], \n",
    "                       'SeriesInstanceUIDs': os.listdir(p[1]),\n",
    "                       'SeriesDescriptions': []}\n",
    "                for p in id_path_list}\n",
    "\n",
    "for k in id_info_dict:\n",
    "    for s in id_info_dict[k]['SeriesInstanceUIDs']:\n",
    "        id_info_dict[k]['SeriesDescriptions'].append(desc_df[(desc_df['study_id'] == int(k)) &\n",
    "            (desc_df['series_id'] == int(s))]['series_description'].iloc[0])\n",
    "\n",
    "display(id_info_dict[list(id_info_dict.keys())[0]])"
   ]
  },
  {
   "cell_type": "code",
   "execution_count": 3,
   "id": "a2e3bdb6-3d45-4a98-8025-0bfbc486cf20",
   "metadata": {},
   "outputs": [],
   "source": [
    "def get_img_dict(patient_id, info_dict):\n",
    "    patient_info = info_dict[str(patient_id)]\n",
    "    img_dict = {}\n",
    "    for idx, i in enumerate(patient_info['SeriesInstanceUIDs']):\n",
    "        img_dict[i] = {'images': [], 'description': patient_info['SeriesDescriptions'][idx]}\n",
    "        images = glob.glob(f\"{patient_info['folder_path']}/{patient_info['SeriesInstanceUIDs'][idx]}/*.dcm\")\n",
    "        for j in sorted(images, key=lambda x: int(x.replace('\\\\','/').split('/')[-1].replace('.dcm', ''))):\n",
    "            img_dict[i]['images'].append({'SOPInstanceUID': j.replace('\\\\','/').split('/')[-1].replace('.dcm', ''), 'dicom': pydicom.dcmread(j)})\n",
    "    return img_dict"
   ]
  },
  {
   "cell_type": "code",
   "execution_count": 4,
   "id": "93d29eca-2739-402b-9ba9-9772aa3dab40",
   "metadata": {},
   "outputs": [],
   "source": [
    "d1 = get_img_dict(4646740, id_info_dict)\n",
    "# display(d1[list(d1.keys())[0]]['images'][0]['dicom'])"
   ]
  },
  {
   "cell_type": "code",
   "execution_count": null,
   "id": "c7a5f789-4142-475a-a392-c56bba1319cd",
   "metadata": {},
   "outputs": [],
   "source": []
  },
  {
   "cell_type": "code",
   "execution_count": null,
   "id": "0ca96273-d286-4d4e-892e-29a87c4ce6f2",
   "metadata": {},
   "outputs": [],
   "source": []
  },
  {
   "cell_type": "code",
   "execution_count": null,
   "id": "5c02b59c-54f8-4dfc-b42b-d785499444e4",
   "metadata": {},
   "outputs": [],
   "source": []
  },
  {
   "cell_type": "code",
   "execution_count": null,
   "id": "4d12b94c-961b-41df-884d-aba3fe34b8ef",
   "metadata": {},
   "outputs": [],
   "source": []
  },
  {
   "cell_type": "code",
   "execution_count": null,
   "id": "c6127d73",
   "metadata": {},
   "outputs": [],
   "source": []
  },
  {
   "cell_type": "code",
   "execution_count": null,
   "id": "10725bfa",
   "metadata": {},
   "outputs": [],
   "source": []
  }
 ],
 "metadata": {
  "kernelspec": {
   "display_name": "Python 3 (ipykernel)",
   "language": "python",
   "name": "python3"
  },
  "language_info": {
   "codemirror_mode": {
    "name": "ipython",
    "version": 3
   },
   "file_extension": ".py",
   "mimetype": "text/x-python",
   "name": "python",
   "nbconvert_exporter": "python",
   "pygments_lexer": "ipython3",
   "version": "3.12.4"
  }
 },
 "nbformat": 4,
 "nbformat_minor": 5
}
